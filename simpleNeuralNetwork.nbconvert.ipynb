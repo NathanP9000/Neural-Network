{
 "cells": [
  {
   "cell_type": "code",
   "execution_count": 1,
   "metadata": {
    "execution": {
     "iopub.execute_input": "2024-01-27T19:04:18.349758Z",
     "iopub.status.busy": "2024-01-27T19:04:18.349758Z",
     "iopub.status.idle": "2024-01-27T19:04:20.343814Z",
     "shell.execute_reply": "2024-01-27T19:04:20.343814Z"
    }
   },
   "outputs": [],
   "source": [
    "import torch\n",
    "import torch.nn as nn\n",
    "import torch.nn.functional as F\n"
   ]
  },
  {
   "cell_type": "code",
   "execution_count": 2,
   "metadata": {
    "execution": {
     "iopub.execute_input": "2024-01-27T19:04:20.347815Z",
     "iopub.status.busy": "2024-01-27T19:04:20.346819Z",
     "iopub.status.idle": "2024-01-27T19:04:20.359865Z",
     "shell.execute_reply": "2024-01-27T19:04:20.359865Z"
    }
   },
   "outputs": [],
   "source": [
    "# Create Model Class that inherits torch.nn\n",
    "class Model(nn.Module):\n",
    "    # Input layer: 4 features of the flower (sepal length/width and petal lenth/width)\n",
    "    # Input then goes to Hidden Layer1 has x neurons\n",
    "    # HL1 goes to HL2\n",
    "    # HL2 goes to output which is 1 of 3 classes of flowers\n",
    "    def __init__(self,input_features=4,h1=8,h2=9,output_features=3):\n",
    "        self.fc1 == nn.Linear(in_features, h1) #FC means fully connected.\n",
    "        self.fc2 = nn.Linear(h1, h2)\n",
    "        self.out = nn.Linear(h2, out_features)\n",
    "\n",
    "    # Move through each layer\n",
    "    def forward(self, x): \n",
    "        x = F.relu(self.fc1(x)) # relu - > rectified linear unit. If output less than 0 make it 0.\n",
    "        x = F.relu(self.fc2(x))\n",
    "        x = self.out(x)\n",
    "        return x"
   ]
  }
 ],
 "metadata": {
  "kernelspec": {
   "display_name": "Python 3",
   "language": "python",
   "name": "python3"
  },
  "language_info": {
   "codemirror_mode": {
    "name": "ipython",
    "version": 3
   },
   "file_extension": ".py",
   "mimetype": "text/x-python",
   "name": "python",
   "nbconvert_exporter": "python",
   "pygments_lexer": "ipython3",
   "version": "3.9.6"
  }
 },
 "nbformat": 4,
 "nbformat_minor": 2
}
